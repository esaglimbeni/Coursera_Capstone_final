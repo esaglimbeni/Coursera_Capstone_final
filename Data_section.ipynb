{
 "cells": [
  {
   "cell_type": "markdown",
   "metadata": {},
   "source": [
    "# 2. Data"
   ]
  },
  {
   "cell_type": "markdown",
   "metadata": {},
   "source": [
    "### 2.1. Data Sources"
   ]
  },
  {
   "cell_type": "markdown",
   "metadata": {},
   "source": [
    "Most of the venues like the coffee shop at the United States  has their location and ranking at the Foursquare application, \n",
    "the Fort Lauderdale at the Florida State, has a lot of traffic of tourists for entertainment or for shopping, but there is also the reality of the people\n",
    "who lives there and uses their own cars for their rides to the jobs at the morning.\n",
    "\n",
    "Other web information I'll be using is the location of the banks or other business offices, and some residential neighbourhoods that can \n",
    "help to make clear where are middle points that we can identify for the location we are seeking. There could be also some points of interest \n",
    "like the airport or the rental cars offices where some journeys begin."
   ]
  }
 ],
 "metadata": {
  "kernelspec": {
   "display_name": "Python 3",
   "language": "python",
   "name": "python3"
  },
  "language_info": {
   "codemirror_mode": {
    "name": "ipython",
    "version": 3
   },
   "file_extension": ".py",
   "mimetype": "text/x-python",
   "name": "python",
   "nbconvert_exporter": "python",
   "pygments_lexer": "ipython3",
   "version": "3.7.1"
  }
 },
 "nbformat": 4,
 "nbformat_minor": 2
}
