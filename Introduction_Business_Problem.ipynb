{
 "cells": [
  {
   "cell_type": "markdown",
   "metadata": {},
   "source": [
    "# 1. Introduction / Business Problem"
   ]
  },
  {
   "cell_type": "markdown",
   "metadata": {},
   "source": [
    "### 1.1 Background"
   ]
  },
  {
   "cell_type": "markdown",
   "metadata": {},
   "source": [
    "We live in a world where everyday people generates data of his behaviour and there are a lot of machines that recompile that information. \n",
    "Also, there are a business that uses lots of data available in their systems for making the wiser decision possible for invest their money.\n",
    "\n",
    "In this world of velocity of information, people tries hard to reduce the time of the unnecessary activities in their routine, \n",
    "like having the coffee cup that keep you going all day. Thinking in this, we could think that people that has no public transports, and \n",
    "drives long distances to their home to their jobs, or people who travels for shopping or entertainment and wants to improve the use of their time\n",
    "would be interested in a modality of coffee to go, like the auto-services of the junk food."
   ]
  },
  {
   "cell_type": "markdown",
   "metadata": {},
   "source": [
    "### 1.2. Problem"
   ]
  },
  {
   "cell_type": "markdown",
   "metadata": {},
   "source": [
    "Where is the best place to locate a coffee shop? When you are trying to open a new local just the information that you can recompile \n",
    "inside the business is not enough because there are some geographical variables that can make a difference in choosing the best \n",
    "location and make a positive impact on the business on the short, middle and long ride.\n",
    "The idea of a good location depends of the objectives of the owner(s), but we must be near of the clients, be accessible to the potential clients, \n",
    "near of the raw material supplier because we could also need to reduce logistic cots."
   ]
  },
  {
   "cell_type": "markdown",
   "metadata": {},
   "source": [
    "### 1.3. Interests"
   ]
  },
  {
   "cell_type": "markdown",
   "metadata": {},
   "source": [
    "People that can be interested in this business idea is the people that want to initiate in their own coffee shop or someone who is looking \n",
    "to open a new local or to relocate the one that is actually working but needs to improve the affluence of people or reduce \n",
    "some logistic costs at Fort Lauderdale - Florida."
   ]
  }
 ],
 "metadata": {
  "kernelspec": {
   "display_name": "Python 3",
   "language": "python",
   "name": "python3"
  },
  "language_info": {
   "codemirror_mode": {
    "name": "ipython",
    "version": 3
   },
   "file_extension": ".py",
   "mimetype": "text/x-python",
   "name": "python",
   "nbconvert_exporter": "python",
   "pygments_lexer": "ipython3",
   "version": "3.7.1"
  }
 },
 "nbformat": 4,
 "nbformat_minor": 2
}
